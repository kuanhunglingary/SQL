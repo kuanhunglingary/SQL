{
 "cells": [
  {
   "cell_type": "markdown",
   "metadata": {},
   "source": [
    "List the zip file"
   ]
  },
  {
   "cell_type": "code",
   "execution_count": null,
   "metadata": {},
   "outputs": [],
   "source": [
    "import pathlib\n",
    "import zipfile\n",
    "\n",
    "directory = pathlib.Path(\"/Users/user/SQL/export.zip\")\n",
    "\n",
    "# List the zip file\n",
    "with zipfile.ZipFile(\"export.zip\", mode=\"r\") as archive:\n",
    "    archive.printdir()"
   ]
  },
  {
   "cell_type": "markdown",
   "metadata": {},
   "source": [
    "Extract the zip file"
   ]
  },
  {
   "cell_type": "code",
   "execution_count": null,
   "metadata": {},
   "outputs": [],
   "source": [
    "import pathlib\n",
    "import zipfile\n",
    "directory = pathlib.Path(\"/Users/user/SQL/export.zip\")\n",
    "with zipfile.ZipFile(\"export.zip\", mode=\"r\") as archive:\n",
    "    for file in archive.namelist():\n",
    "        archive.extract(file, \"/Users/user/SQL\")\n"
   ]
  },
  {
   "cell_type": "markdown",
   "metadata": {},
   "source": [
    "Parse XML file"
   ]
  },
  {
   "cell_type": "code",
   "execution_count": null,
   "metadata": {},
   "outputs": [],
   "source": [
    "import xml.etree.ElementTree as ET\n",
    "tree = ET.parse('apple_health_export/export.xml')\n",
    "root = tree.getroot()\n",
    "print(root.tag)\n",
    "print(root.attrib)\n",
    "for child in root:\n",
    "    print(child.tag,child.attrib)"
   ]
  },
  {
   "cell_type": "code",
   "execution_count": 2,
   "metadata": {},
   "outputs": [
    {
     "data": {
      "text/plain": [
       "'HealthData'"
      ]
     },
     "execution_count": 2,
     "metadata": {},
     "output_type": "execute_result"
    }
   ],
   "source": [
    "root.tag"
   ]
  },
  {
   "cell_type": "code",
   "execution_count": 3,
   "metadata": {},
   "outputs": [
    {
     "data": {
      "text/plain": [
       "{'locale': 'en_TW'}"
      ]
     },
     "execution_count": 3,
     "metadata": {},
     "output_type": "execute_result"
    }
   ],
   "source": [
    "root.attrib"
   ]
  },
  {
   "cell_type": "code",
   "execution_count": null,
   "metadata": {},
   "outputs": [],
   "source": [
    "for child in root:\n",
    "    print(child.tag,child.attrib)"
   ]
  },
  {
   "cell_type": "code",
   "execution_count": null,
   "metadata": {},
   "outputs": [],
   "source": [
    "record_list = [x.attrib for x in root.iter('Record')]\n",
    "record_list"
   ]
  },
  {
   "cell_type": "markdown",
   "metadata": {},
   "source": [
    "Insert apple healthkit into PostgreSQL"
   ]
  },
  {
   "cell_type": "code",
   "execution_count": 20,
   "metadata": {},
   "outputs": [
    {
     "name": "stdout",
     "output_type": "stream",
     "text": [
      "Data inserted into PostgreSQL successfully!\n"
     ]
    }
   ],
   "source": [
    "import psycopg2\n",
    "# Database connection details (replace with your actual details)\n",
    "dbname = \"appleHealthExport\"\n",
    "user = \"postgres\"\n",
    "password = \"password\"\n",
    "host = \"localhost\"\n",
    "port = 5432\n",
    "# Connect to PostgreSQL\n",
    "conn = psycopg2.connect(dbname=dbname, user=user, password=password, host=host, port=port)\n",
    "cur = conn.cursor()\n",
    "# Create a table to store the data\n",
    "cur.execute(\"\"\"\n",
    "    CREATE TABLE IF NOT EXISTS records (\n",
    "        id SERIAL PRIMARY KEY,\n",
    "        creationDate TIMESTAMP,\n",
    "        startDate TIMESTAMP,\n",
    "        endDate TIMESTAMP,\n",
    "        value NUMERIC\n",
    "    );\n",
    "\"\"\")\n",
    "# Insert records into the table, handling potential data type mismatches\n",
    "insert_query = \"\"\"\n",
    "    INSERT INTO records (creationDate, startDate, endDate, value)\n",
    "    VALUES (%s, %s, %s, %s)\n",
    "\"\"\"\n",
    "# Insert data into table\n",
    "for record in record_list:\n",
    "    values = (record.get('creationDate'), record.get('startDate'),\n",
    "              record.get('endDate'), record.get('value'))\n",
    "    cur.execute(insert_query, values)\n",
    "\n",
    "# Commit changes and close connection\n",
    "conn.commit()\n",
    "cur.close()\n",
    "conn.close()\n",
    "\n",
    "print(\"Data inserted into PostgreSQL successfully!\")"
   ]
  }
 ],
 "metadata": {
  "kernelspec": {
   "display_name": ".venv",
   "language": "python",
   "name": "python3"
  },
  "language_info": {
   "codemirror_mode": {
    "name": "ipython",
    "version": 3
   },
   "file_extension": ".py",
   "mimetype": "text/x-python",
   "name": "python",
   "nbconvert_exporter": "python",
   "pygments_lexer": "ipython3",
   "version": "3.11.5"
  }
 },
 "nbformat": 4,
 "nbformat_minor": 2
}
